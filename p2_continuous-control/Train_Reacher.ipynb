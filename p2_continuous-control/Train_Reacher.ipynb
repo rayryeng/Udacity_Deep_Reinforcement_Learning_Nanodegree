{
 "cells": [
  {
   "cell_type": "markdown",
   "metadata": {
    "cell_id": "8c7fa14e-c93f-4320-b9e6-cef99321ac33",
    "tags": []
   },
   "source": [
    "## Train Reacher Notebook"
   ]
  },
  {
   "cell_type": "markdown",
   "metadata": {
    "cell_id": "29183604-a8b0-46e3-a530-61c5f4450ecb",
    "tags": []
   },
   "source": [
    "The essential steps to this are:\n",
    "\n",
    "* Define Unity environment\n",
    "* Get the default brain\n",
    "* Import DDPG Actor-Critic Framework\n",
    "* Run DDPG training loop with default brain"
   ]
  },
  {
   "cell_type": "code",
   "execution_count": null,
   "metadata": {
    "cell_id": "08c4b116-ea5b-403d-a6ae-4a869ce55472",
    "tags": []
   },
   "outputs": [],
   "source": [
    "from unityagents import UnityEnvironment\n",
    "import numpy as np\n",
    "from ddpg_agent import Agents\n",
    "import torch\n",
    "from collections import deque\n",
    "import matplotlib.pyplot as plt"
   ]
  },
  {
   "cell_type": "code",
   "execution_count": null,
   "metadata": {
    "cell_id": "51329388-1d80-49bf-b1ff-3e119a460f86",
    "tags": []
   },
   "outputs": [
    {
     "name": "stderr",
     "output_type": "stream",
     "text": [
      "INFO:unityagents:\n",
      "'Academy' started successfully!\n",
      "Unity Academy name: Academy\n",
      "        Number of Brains: 1\n",
      "        Number of External Brains : 1\n",
      "        Lesson number : 0\n",
      "        Reset Parameters :\n",
      "\t\tgoal_size -> 5.0\n",
      "\t\tgoal_speed -> 1.0\n",
      "Unity brain name: ReacherBrain\n",
      "        Number of Visual Observations (per agent): 0\n",
      "        Vector Observation space type: continuous\n",
      "        Vector Observation space size (per agent): 33\n",
      "        Number of stacked Vector Observation: 1\n",
      "        Vector Action space type: continuous\n",
      "        Vector Action space size (per agent): 4\n",
      "        Vector Action descriptions: , , , \n"
     ]
    }
   ],
   "source": [
    "env = UnityEnvironment(file_name=\"Reacher_Linux_NoVis/Reacher.x86_64\", worker_id=7)"
   ]
  },
  {
   "cell_type": "code",
   "execution_count": null,
   "metadata": {
    "cell_id": "c4d1bb47-0754-4cc8-99f6-75bee1c86f91",
    "tags": []
   },
   "outputs": [],
   "source": [
    "# get the default brain\n",
    "brain_name = env.brain_names[0]\n",
    "brain = env.brains[brain_name]"
   ]
  },
  {
   "cell_type": "code",
   "execution_count": null,
   "metadata": {
    "cell_id": "0c8babef-2b35-4ac8-9546-349bfdcc5683",
    "tags": []
   },
   "outputs": [],
   "source": [
    "# reset the environment\n",
    "env_info = env.reset(train_mode=True)[brain_name]\n",
    "\n",
    "# number of agents\n",
    "num_agents = len(env_info.agents)\n",
    "\n",
    "# size of each action\n",
    "action_size = brain.vector_action_space_size\n",
    "\n",
    "# size of each observation\n",
    "states = env_info.vector_observations\n",
    "state_size = states.shape[1]\n",
    "\n",
    "# Initialise Agents\n",
    "agent = Agents(state_size=state_size, action_size=action_size, num_agents=num_agents, random_seed=1234)"
   ]
  },
  {
   "cell_type": "code",
   "execution_count": null,
   "metadata": {
    "cell_id": "81a54e44-b10e-4c0b-a8de-70002db5f847",
    "tags": []
   },
   "outputs": [
    {
     "name": "stdout",
     "output_type": "stream",
     "text": [
      "Number of agents: 20\n",
      "Action size: 4\n",
      "State size: 33\n"
     ]
    }
   ],
   "source": [
    "print(f'Number of agents: {num_agents}')\n",
    "print(f'Action size: {action_size}')\n",
    "print(f'State size: {state_size}')"
   ]
  },
  {
   "cell_type": "code",
   "execution_count": null,
   "metadata": {
    "cell_id": "d4684f4f-5fcc-46d4-bbfb-601a77750da7",
    "tags": []
   },
   "outputs": [],
   "source": [
    "## Training function for DDPG\n",
    "import os\n",
    "try:\n",
    "    os.makedirs('checkpoints')\n",
    "except:\n",
    "    pass\n",
    "\n",
    "def ddpg(n_episodes=2000, max_t=1000, print_every=10, min_score=30.0):\n",
    "    \"\"\"DDPG Learning via Actor-Critic\n",
    "    \n",
    "    Params\n",
    "    ======\n",
    "        n_episodes (int): maximum number of training episodes\n",
    "        max_t (int): maximum number of timesteps per episode\n",
    "        min_score (float): the minimum score needed over the most recent 100 episodes to pass the environment\n",
    "    \"\"\"\n",
    "    scores_episode = []                # list containing scores from each episode\n",
    "    scores_window = deque(maxlen=100)  # last 100 scores\n",
    "\n",
    "    for i_episode in range(1, n_episodes+1):\n",
    "        env_info = env.reset(train_mode=True)[brain_name]      # reset the environment    \n",
    "        states = env_info.vector_observations                  # get the current state (for each agent)\n",
    "        scores = np.zeros(num_agents)                          # initialize the score (for each agent)\n",
    "        agent.reset()                                          # resetting the noise process\n",
    "\n",
    "        for t in range(max_t):\n",
    "            actions = agent.act(states)                        # decide on the action\n",
    "            actions = np.clip(actions, -1, 1)                  # all actions between -1 and 1\n",
    "            env_info = env.step(actions)[brain_name]           # send all actions to the environment\n",
    "\n",
    "            next_states = env_info.vector_observations           # get next state (for each agent)\n",
    "            rewards = np.array(env_info.rewards)                 # get reward (for each agent)\n",
    "            dones = np.array(env_info.local_done, dtype=np.bool) # see if episode finished\n",
    "\n",
    "            # Perform the learning step\n",
    "            agent.step(states, actions, rewards, next_states, dones)\n",
    "            \n",
    "            scores += np.array(env_info.rewards)               # update the score (for each agent)\n",
    "            states = next_states                               # roll over states to next time step\n",
    "            if np.any(dones):                                  # exit loop if episode finished\n",
    "                break\n",
    "\n",
    "        scores_window.append(np.mean(scores))               # save most recent averaged scores over the agents\n",
    "        scores_episode.append(np.mean(scores))              # save most recent averaged scores over the agents\n",
    "\n",
    "        print('\\rEpisode {}\\t# of timesteps needed: {}\\tAverage Score: {:.2f}'.format(i_episode, t + 1, np.mean(scores_window)), end=\"\")\n",
    "        if i_episode % print_every == 0:\n",
    "            print('\\rEpisode {}\\t# of timesteps needed: {}\\tAverage Score: {:.2f}'.format(i_episode, t + 1, np.mean(scores_window)))\n",
    "        if np.mean(scores_window) >= min_score:  # To deem this a success, we must achieve an average score of 30 in a 100 episode window\n",
    "            print('\\nEnvironment solved in {:d} episodes!\\tAverage Score: {:.2f}'.format(i_episode-100, np.mean(scores_window)))\n",
    "            torch.save(agent.actor_local.state_dict(), os.path.join('checkpoints', 'checkpoint_actor.pth'))\n",
    "            torch.save(agent.critic_local.state_dict(), os.path.join('checkpoints', 'checkpoint_critic.pth'))\n",
    "            break\n",
    "    \n",
    "    # If we don't converge, save it anyway\n",
    "    if np.mean(scores_window) < min_score:\n",
    "        print(f'Note: DDPG Agent did not solve after {n_episodes} episodes')\n",
    "        torch.save(agent.actor_local.state_dict(), os.path.join('checkpoints', 'checkpoint_actor.pth'))\n",
    "        torch.save(agent.critic_local.state_dict(), os.path.join('checkpoints', 'checkpoint_critic.pth'))\n",
    "\n",
    "    return scores_episode"
   ]
  },
  {
   "cell_type": "code",
   "execution_count": null,
   "metadata": {
    "cell_id": "e292b11b-0070-4017-93d3-bf7127583625",
    "tags": []
   },
   "outputs": [
    {
     "name": "stdout",
     "output_type": "stream",
     "text": [
      "Episode 10\t# of timesteps needed: 1000\tAverage Score: 0.73\n",
      "Episode 20\t# of timesteps needed: 1000\tAverage Score: 1.61\n",
      "Episode 30\t# of timesteps needed: 1000\tAverage Score: 2.77\n",
      "Episode 40\t# of timesteps needed: 1000\tAverage Score: 3.70\n",
      "Episode 50\t# of timesteps needed: 1000\tAverage Score: 5.35\n",
      "Episode 60\t# of timesteps needed: 1000\tAverage Score: 8.03\n",
      "Episode 70\t# of timesteps needed: 1000\tAverage Score: 10.85\n",
      "Episode 80\t# of timesteps needed: 1000\tAverage Score: 13.36\n",
      "Episode 90\t# of timesteps needed: 1000\tAverage Score: 15.34\n",
      "Episode 100\t# of timesteps needed: 1000\tAverage Score: 16.96\n",
      "Episode 110\t# of timesteps needed: 1000\tAverage Score: 20.24\n",
      "Episode 120\t# of timesteps needed: 1000\tAverage Score: 23.38\n",
      "Episode 130\t# of timesteps needed: 1000\tAverage Score: 26.43\n",
      "Episode 140\t# of timesteps needed: 1000\tAverage Score: 29.26\n",
      "Episode 144\t# of timesteps needed: 1000\tAverage Score: 30.03\n",
      "Environment solved in 44 episodes!\tAverage Score: 30.03\n"
     ]
    }
   ],
   "source": [
    "scores = ddpg()"
   ]
  },
  {
   "cell_type": "code",
   "execution_count": null,
   "metadata": {
    "cell_id": "81903ff6-1f63-49c0-b7d3-28b2f5dfc0ca",
    "tags": []
   },
   "outputs": [
    {
     "data": {
      "image/png": "[encoded data removed]",
      "text/plain": [
       "<Figure size 432x288 with 1 Axes>"
      ]
     },
     "metadata": {
      "needs_background": "light"
     },
     "output_type": "display_data"
    }
   ],
   "source": [
    "# plot the scores\n",
    "fig = plt.figure()\n",
    "ax = fig.add_subplot(111)\n",
    "plt.plot(np.arange(len(scores)), scores)\n",
    "plt.ylabel('Average Score over 20 Agents')\n",
    "plt.xlabel('Episode #')\n",
    "plt.show()"
   ]
  }
 ],
 "metadata": {
  "deepnote_execution_queue": [],
  "deepnote_notebook_id": "1b5982c0-8863-4be5-9ff5-521ec6f14919",
  "kernelspec": {
   "display_name": "Python 3",
   "language": "python",
   "name": "python3"
  },
  "language_info": {
   "codemirror_mode": {
    "name": "ipython",
    "version": 3
   },
   "file_extension": ".py",
   "mimetype": "text/x-python",
   "name": "python",
   "nbconvert_exporter": "python",
   "pygments_lexer": "ipython3",
   "version": "3.7.6"
  }
 },
 "nbformat": 4,
 "nbformat_minor": 2
}

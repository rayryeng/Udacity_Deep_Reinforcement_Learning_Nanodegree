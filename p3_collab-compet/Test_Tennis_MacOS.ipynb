{
 "cells": [
  {
   "cell_type": "markdown",
   "metadata": {
    "cell_id": "7134822a-7e83-452f-a8fa-f3b94ad82cd0",
    "tags": []
   },
   "source": [
    "## Test Tennis Notebook\n",
    "\n",
    "The essential steps to this are:\n",
    "\n",
    "* Define Unity environment\n",
    "* Get the default brain\n",
    "* Import DDPG Agent\n",
    "* Load in checkpoint\n",
    "* Run testing loop"
   ]
  },
  {
   "cell_type": "code",
   "execution_count": 1,
   "metadata": {
    "cell_id": "2ec8c427-43f3-4668-8c5f-34143aefe9c1",
    "tags": []
   },
   "outputs": [],
   "source": [
    "from unityagents import UnityEnvironment\n",
    "import numpy as np\n",
    "from ddpg_agent import Agents\n",
    "import torch\n",
    "from collections import deque\n",
    "import matplotlib.pyplot as plt"
   ]
  },
  {
   "cell_type": "code",
   "execution_count": 4,
   "metadata": {
    "cell_id": "72b760bc-2231-4544-988e-44071d1e16dd",
    "tags": []
   },
   "outputs": [
    {
     "name": "stderr",
     "output_type": "stream",
     "text": [
      "INFO:unityagents:\n",
      "'Academy' started successfully!\n",
      "Unity Academy name: Academy\n",
      "        Number of Brains: 1\n",
      "        Number of External Brains : 1\n",
      "        Lesson number : 0\n",
      "        Reset Parameters :\n",
      "\t\t\n",
      "Unity brain name: TennisBrain\n",
      "        Number of Visual Observations (per agent): 0\n",
      "        Vector Observation space type: continuous\n",
      "        Vector Observation space size (per agent): 8\n",
      "        Number of stacked Vector Observation: 3\n",
      "        Vector Action space type: continuous\n",
      "        Vector Action space size (per agent): 2\n",
      "        Vector Action descriptions: , \n"
     ]
    }
   ],
   "source": [
    "env = UnityEnvironment(file_name=\"Tennis.app\", worker_id=40)"
   ]
  },
  {
   "cell_type": "code",
   "execution_count": 5,
   "metadata": {
    "cell_id": "d91f4d84-2696-4aa2-a98e-ed7a7f9d374c",
    "tags": []
   },
   "outputs": [],
   "source": [
    "# get the default brain\n",
    "brain_name = env.brain_names[0]\n",
    "brain = env.brains[brain_name]"
   ]
  },
  {
   "cell_type": "code",
   "execution_count": 6,
   "metadata": {
    "cell_id": "fc8788f3-17fd-480f-8ed2-9a6435382484",
    "tags": []
   },
   "outputs": [],
   "source": [
    "BUFFER_SIZE = int(1e6)  # replay buffer size\n",
    "BATCH_SIZE = 128        # minibatch size\n",
    "GAMMA = 0.99            # discount factor\n",
    "TAU = 1e-3              # for soft update of target parameters\n",
    "LR_ACTOR = 1e-4         # learning rate of the actor \n",
    "LR_CRITIC = 1e-3        # learning rate of the critic\n",
    "WEIGHT_DECAY = 0.       # L2 weight decay\n",
    "UPDATE_EVERY = 40        # At every multiple of this value, we update our actor and critic\n",
    "NUM_ITERS_LEARN = 20     # When we finally do the update, we run the learning process this many times\n",
    "FC1_UNITS = 600         # Number of hidden units for the first hidden layer of the Actor and Critic networks\n",
    "FC2_UNITS = 400         # Number of hidden units for the second hidden layer of the Actor and Critic networks\n",
    "\n",
    "config = {'batch_size': BATCH_SIZE, 'buffer_size': BUFFER_SIZE, 'gamma': GAMMA,\n",
    "'tau': TAU, 'lr_actor': LR_ACTOR, 'lr_critic': LR_CRITIC, 'weight_decay': WEIGHT_DECAY,\n",
    "'update_every': UPDATE_EVERY, 'num_iters_learn': NUM_ITERS_LEARN, 'fc1_units': FC1_UNITS,\n",
    "'fc2_units': FC2_UNITS}"
   ]
  },
  {
   "cell_type": "code",
   "execution_count": 8,
   "metadata": {
    "cell_id": "a521c686-aa81-406c-b80a-6f6aae091b22",
    "tags": []
   },
   "outputs": [
    {
     "name": "stdout",
     "output_type": "stream",
     "text": [
      "Using user-defined parameters\n",
      "{'batch_size': 128,\n",
      " 'buffer_size': 1000000,\n",
      " 'fc1_units': 600,\n",
      " 'fc2_units': 400,\n",
      " 'gamma': 0.99,\n",
      " 'lr_actor': 0.0001,\n",
      " 'lr_critic': 0.001,\n",
      " 'num_iters_learn': 20,\n",
      " 'tau': 0.001,\n",
      " 'update_every': 40,\n",
      " 'weight_decay': 0.0}\n"
     ]
    },
    {
     "data": {
      "text/plain": [
       "<All keys matched successfully>"
      ]
     },
     "execution_count": 8,
     "metadata": {},
     "output_type": "execute_result"
    }
   ],
   "source": [
    "import os\n",
    "\n",
    "# reset the environment\n",
    "env_info = env.reset(train_mode=False)[brain_name]\n",
    "\n",
    "# number of agents\n",
    "num_agents = len(env_info.agents)\n",
    "\n",
    "# size of each action\n",
    "action_size = brain.vector_action_space_size\n",
    "\n",
    "# size of each observation\n",
    "states = env_info.vector_observations\n",
    "state_size = states.shape[1]\n",
    "\n",
    "# Initialise Agents\n",
    "agent = Agents(state_size=state_size, action_size=action_size, num_agents=num_agents, random_seed=1234, config=config)\n",
    "\n",
    "# Also load in checkpoints\n",
    "agent.actor_local.load_state_dict(torch.load(os.path.join('checkpoints_tennis', 'checkpoint_actor.pth'), map_location='cpu'))\n",
    "agent.critic_local.load_state_dict(torch.load(os.path.join('checkpoints_tennis', 'checkpoint_critic.pth'), map_location='cpu'))"
   ]
  },
  {
   "cell_type": "code",
   "execution_count": 10,
   "metadata": {
    "cell_id": "cf16a6c0-743f-4eba-aaa4-584764f6ace6",
    "tags": []
   },
   "outputs": [
    {
     "name": "stdout",
     "output_type": "stream",
     "text": [
      "Total score (maximum over the two agents) this episode: 2.600000038743019\n",
      "Number of iterations: 1001\n"
     ]
    }
   ],
   "source": [
    "## Loop to iterate over a single episode\n",
    "env_info = env.reset(train_mode=False)[brain_name]     # reset the environment    \n",
    "states = env_info.vector_observations                  # get the current state (for each agent)\n",
    "scores = np.zeros(num_agents)                          # initialize the score (for each agent)\n",
    "num_iter = 0\n",
    "while True:\n",
    "    num_iter += 1\n",
    "    actions = agent.act(states)                        # select an action\n",
    "    actions = np.clip(actions, -1, 1)                  # all actions between -1 and 1\n",
    "    env_info = env.step(actions)[brain_name]           # send all actions to the environment\n",
    "    next_states = env_info.vector_observations         # get next state (for each agent)\n",
    "    rewards = np.array(env_info.rewards)               # get reward (for each agent)\n",
    "    dones = np.array(env_info.local_done, dtype=np.bool)  # see if episode finished\n",
    "    scores += env_info.rewards                         # update the score (for each agent)\n",
    "    states = next_states                               # roll over states to next time step\n",
    "    if np.any(dones):                                  # exit loop if episode finished\n",
    "        break\n",
    "\n",
    "print('Total score (maximum over the two agents) this episode: {}'.format(np.max(scores)))\n",
    "print(f'Number of iterations: {num_iter}')"
   ]
  },
  {
   "cell_type": "code",
   "execution_count": null,
   "metadata": {
    "cell_id": "0f8e87a8-acc1-456e-8c81-3618867d9e46",
    "tags": []
   },
   "outputs": [],
   "source": []
  }
 ],
 "metadata": {
  "deepnote_execution_queue": [],
  "deepnote_notebook_id": "aa79d221-a951-4aad-8055-85f7eb9963ff",
  "kernelspec": {
   "display_name": "Python 3",
   "language": "python",
   "name": "python3"
  },
  "language_info": {
   "codemirror_mode": {
    "name": "ipython",
    "version": 3
   },
   "file_extension": ".py",
   "mimetype": "text/x-python",
   "name": "python",
   "nbconvert_exporter": "python",
   "pygments_lexer": "ipython3",
   "version": "3.7.6"
  }
 },
 "nbformat": 4,
 "nbformat_minor": 2
}
